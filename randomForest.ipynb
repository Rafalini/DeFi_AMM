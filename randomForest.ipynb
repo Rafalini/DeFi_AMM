{
 "cells": [
  {
   "cell_type": "code",
   "execution_count": 28,
   "metadata": {},
   "outputs": [
    {
     "name": "stdout",
     "output_type": "stream",
     "text": [
      "Populating the interactive namespace from numpy and matplotlib\n"
     ]
    },
    {
     "name": "stderr",
     "output_type": "stream",
     "text": [
      "/usr/lib/python3/dist-packages/IPython/core/magics/pylab.py:159: UserWarning: pylab import has clobbered these variables: ['datetime']\n",
      "`%matplotlib` prevents importing * from pylab and numpy\n",
      "  warn(\"pylab import has clobbered these variables: %s\"  % clobbered +\n",
      "/tmp/ipykernel_13011/3368315980.py:5: MatplotlibDeprecationWarning: The seaborn styles shipped by Matplotlib are deprecated since 3.6, as they no longer correspond to the styles shipped by seaborn. However, they will remain available as 'seaborn-v0_8-<style>'. Alternatively, directly use the seaborn API instead.\n",
      "  plt.style.use('seaborn')\n"
     ]
    }
   ],
   "source": [
    "%pylab inline\n",
    "import pandas as pd\n",
    "import numpy as np\n",
    "import matplotlib.pyplot as plt\n",
    "plt.style.use('seaborn')\n",
    "%matplotlib inline\n",
    "from datetime import datetime"
   ]
  },
  {
   "cell_type": "code",
   "execution_count": 29,
   "metadata": {},
   "outputs": [],
   "source": [
    "# Source code from https://github.com/LuckysonKhaidem/StockMarketPedicition\n",
    "\n",
    "import os\n",
    "from sklearn.metrics import roc_curve, auc, confusion_matrix\n",
    "from matplotlib import animation\n",
    "import matplotlib.patches as mpatches\n",
    "from sklearn.ensemble import RandomForestClassifier, RandomForestRegressor\n",
    "from sklearn.model_selection import train_test_split\n",
    "from sklearn.model_selection import cross_val_score\n",
    "\n",
    "\n",
    "class DataPreprocessor:\n",
    "    def __init__(self):\n",
    "        pass\n",
    "\n",
    "    def CustomSmoother(self, x, alpha):\n",
    "        s0 = x[0]\n",
    "        smoothed_statistic = [s0]\n",
    "        n = x.shape[0]\n",
    "        for i in range(1, n):\n",
    "            s1 = alpha * x[i] + (1 - alpha) * s0\n",
    "            smoothed_statistic.append(s1)\n",
    "            s0 = s1\n",
    "        smoothed_statistic = np.array(smoothed_statistic)\n",
    "        return smoothed_statistic\n",
    "\n",
    "    def PandaSmoother(self, x):\n",
    "        return pd.DataFrame(x).ewm(span=20).mean()\n",
    "\n",
    "class Evaluator:\n",
    "    def __init__(self, X_test, y_test, y_pred, model):\n",
    "        self.X_test = X_test\n",
    "        self.y_test = y_test\n",
    "        self.y_pred = y_pred\n",
    "        self.model = model\n",
    "\n",
    "    def confusion_matrix(self):\n",
    "        self.cm = confusion_matrix(self.y_test, self.y_pred)\n",
    "\n",
    "    def get_performance_metrics(self):\n",
    "        self.confusion_matrix()\n",
    "\n",
    "        accuracy = (\n",
    "                float((self.cm[0][0] + self.cm[1][1])) /\n",
    "                (self.cm[0][0] + self.cm[0][1] + self.cm[1][0] +\n",
    "                 self.cm[1][1])\n",
    "        )\n",
    "        precision = (\n",
    "                float((self.cm[1][1])) /\n",
    "                (self.cm[1][1] + self.cm[0][1])\n",
    "        )\n",
    "        recall = (\n",
    "                float((self.cm[1][1])) /\n",
    "                (self.cm[1][1] + self.cm[1][0])\n",
    "        )\n",
    "        specificity = (\n",
    "                float((self.cm[0][0])) /\n",
    "                (self.cm[0][0] + self.cm[0][1])\n",
    "        )\n",
    "\n",
    "        return accuracy, recall, precision, specificity\n",
    "\n",
    "    def draw_ROC(self, use_probabilities=True):\n",
    "        y_prob = self.model.predict_proba(self.X_test)\n",
    "        y_pred = self.model.predict(self.X_test)\n",
    "        prob_estimate = y_prob[:, 1]\n",
    "        \n",
    "        if use_probabilities:\n",
    "            fpr, tpr, threshold = roc_curve(self.y_test, prob_estimate)\n",
    "        else:\n",
    "            fpr, tpr, threshold = roc_curve(self.y_test, y_pred)\n",
    "        area = auc(fpr, tpr)\n",
    "        plt.figure()\n",
    "        plt.plot(fpr, tpr, linewidth=2.0, label=\"ROC curve (Area= %0.2f)\" % area)\n",
    "        plt.plot([0, 1], [0, 1], \"r--\")\n",
    "        plt.xlabel(\"False Postive Rate\")\n",
    "        plt.ylabel(\"True Positive Rate\")\n",
    "        plt.legend(loc=\"lower right\")\n",
    "\n",
    "    def oob_vs_n_trees(self, max_trees, X_train, y_train):\n",
    "        # First set up the figure, the axis, and the plot element we want to animate\n",
    "        print(\"\")\n",
    "        print(\"Number of Trees\\t\\tOOB Error Rate\")\n",
    "        fig = plt.figure()\n",
    "        ax = plt.axes(xlim=(0, max_trees), ylim=(0, 1))\n",
    "        line, = ax.plot([], [], lw=2)\n",
    "\n",
    "        # initialization function: plot the background of each frame\n",
    "        def init():\n",
    "            line.set_data([], [])\n",
    "            return line,\n",
    "\n",
    "        number_of_trees = range(2, max_trees + 1)\n",
    "        oob_errors = []\n",
    "\n",
    "        # animation function.  This is called sequentially\n",
    "        def animate(i):\n",
    "            model = RandomForestClassifier(warm_start=True, oob_score=True, n_estimators=i)\n",
    "            model.fit(X_train, y_train)\n",
    "            oob_error = 1 - model.oob_score_\n",
    "            oob_errors.append(oob_error)\n",
    "            print(\"{}\\t\\t\\t{}\".format(i, oob_error))\n",
    "\n",
    "            line.set_data(number_of_trees[:len(oob_errors)], oob_errors)\n",
    "            return line,\n",
    "\n",
    "        # call the animator.  blit=True means only re-draw the parts that have changed.\n",
    "        anim = animation.FuncAnimation(fig, animate, init_func=init, frames=number_of_trees, interval=100, blit=True,\n",
    "                                       repeat=False)\n",
    "        plt.xlabel(\"Number of trees\")\n",
    "        plt.ylabel(\"OOB error\")\n",
    "        plt.show()\n",
    "\n",
    "    def plot_classification_results(self):\n",
    "        self.confusion_matrix()\n",
    "        x = [i + 3.0 for i in range(4)]\n",
    "        xlabel = [\"TP\", \"FN\", \"FP\", \"TN\"]\n",
    "        plt.figure()\n",
    "        plt.grid(True)\n",
    "        plt.bar(x, self.cm.reshape(-1), color=np.random.random((4, 3)))\n",
    "        plt.xticks([i + 3.0 for i in range(4)], xlabel)\n",
    "        plt.show(block=False)\n",
    "\n",
    "        \n",
    "# exponential weighted moving average\n",
    "def ema(x, p):\n",
    "    x = x.squeeze()\n",
    "    prev_ema = x[:p].mean()\n",
    "    ema = [prev_ema]\n",
    "    m = len(x)\n",
    "    multiplier = 2 / float(p + 1)\n",
    "    for i in range(p, m):\n",
    "        cur_ema = (x[i] - prev_ema) * multiplier + prev_ema\n",
    "        prev_ema = cur_ema\n",
    "        ema.append(cur_ema)\n",
    "    return np.array(ema)\n",
    "\n",
    "\n",
    "# Relative Strength Index\n",
    "def getRSI(x):\n",
    "    x = x.squeeze()\n",
    "    n = len(x)\n",
    "    x0 = x[:n - 1]\n",
    "    x1 = x[1:]\n",
    "    change = x1 - x0\n",
    "    avgGain = []\n",
    "    avgLoss = []\n",
    "    loss = 0\n",
    "    gain = 0\n",
    "    for i in range(14):\n",
    "        if change[i] > 0:\n",
    "            gain += change[i]\n",
    "        elif change[i] < 0:\n",
    "            loss += abs(change[i])\n",
    "    averageGain = gain / 14.0\n",
    "    averageLoss = loss / 14.0\n",
    "    avgGain.append(averageGain)\n",
    "    avgLoss.append(averageLoss)\n",
    "    for i in range(14, n - 1):\n",
    "        if change[i] >= 0:\n",
    "            avgGain.append((avgGain[-1] * 13 + change[i]) / 14.0)\n",
    "            avgLoss.append((avgLoss[-1] * 13) / 14.0)\n",
    "        else:\n",
    "            avgGain.append((avgGain[-1] * 13) / 14.0)\n",
    "            avgLoss.append((avgLoss[-1] * 13 + abs(change[i])) / 14.0)\n",
    "    avgGain = np.array(avgGain)\n",
    "    avgLoss = np.array(avgLoss)\n",
    "    RS = avgGain / avgLoss\n",
    "    RSI = 100 - (100 / (1 + RS))\n",
    "    return np.c_[RSI, x1[13:]]\n",
    "\n",
    "\n",
    "def getStochasticOscillator(x):\n",
    "    high = x[:, 1].squeeze()\n",
    "    low = x[:, 2].squeeze()\n",
    "    close = x[:, 3].squeeze()\n",
    "    n = len(high)\n",
    "    highestHigh = []\n",
    "    lowestLow = []\n",
    "    for i in range(n - 13):\n",
    "        highestHigh.append(high[i:i + 14].max())\n",
    "        lowestLow.append(low[i:i + 14].min())\n",
    "    highestHigh = np.array(highestHigh)\n",
    "    lowestLow = np.array(lowestLow)\n",
    "    k = 100 * ((close[13:] - lowestLow) / (highestHigh - lowestLow))\n",
    "\n",
    "    return np.c_[k, close[13:]]\n",
    "\n",
    "\n",
    "def getWilliams(x):\n",
    "    high = x[:, 1].squeeze()\n",
    "    low = x[:, 2].squeeze()\n",
    "    close = x[:, 3].squeeze()\n",
    "    n = len(high)\n",
    "    highestHigh = []\n",
    "    lowestLow = []\n",
    "    for i in range(n - 13):\n",
    "        highestHigh.append(high[i:i + 14].max())\n",
    "        lowestLow.append(low[i:i + 14].min())\n",
    "    highestHigh = np.array(highestHigh)\n",
    "    lowestLow = np.array(lowestLow)\n",
    "    w = -100 * ((highestHigh - close[13:]) / (highestHigh - lowestLow))\n",
    "    return np.c_[w, close[13:]]\n",
    "\n",
    "\n",
    "def getMACD(close):\n",
    "    ma1 = ema(close.squeeze(), 12)\n",
    "    ma2 = ema(close.squeeze(), 26)\n",
    "    macd = ma1[14:] - ma2\n",
    "    return np.c_[macd, close[len(close) - len(macd):]]\n",
    "\n",
    "\n",
    "def getPriceRateOfChange(close, n_days):\n",
    "    close = close.squeeze()\n",
    "    n = len(close)\n",
    "    x0 = close[:n - n_days]\n",
    "    x1 = close[n_days:]\n",
    "    PriceRateOfChange = (x1 - x0) / x0\n",
    "    return np.c_[PriceRateOfChange, x1]\n",
    "\n",
    "\n",
    "def getOnBalanceVolume(X):\n",
    "    close = X[:, 3].squeeze()\n",
    "    volume = X[:, 4].squeeze()[1:]\n",
    "    n = len(close)\n",
    "    x0 = close[:n - 1]\n",
    "    x1 = close[1:]\n",
    "    change = x1 - x0\n",
    "    OBV = []\n",
    "    prev_OBV = 0\n",
    "\n",
    "    for i in range(n - 1):\n",
    "        if change[i] > 0:\n",
    "            current_OBV = prev_OBV + volume[i]\n",
    "        elif change[i] < 0:\n",
    "            current_OBV = prev_OBV - volume[i]\n",
    "        else:\n",
    "            current_OBV = prev_OBV\n",
    "        OBV.append(current_OBV)\n",
    "        prev_OBV = current_OBV\n",
    "    OBV = np.array(OBV)\n",
    "    return np.c_[OBV, x1]\n",
    "\n",
    "def getData(CSVFile, days=None):\n",
    "    smoother = DataPreprocessor()\n",
    "    data = pd.read_csv(CSVFile)\n",
    "    data = data[::-1]  # reverse\n",
    "    if days is not None:\n",
    "        data = data[-days:]\n",
    "    ohclv_data = np.c_[data['Open'],\n",
    "                       data['High'],\n",
    "                       data['Low'],\n",
    "                       data['Close'],\n",
    "                       data['Volume']]\n",
    "    smoothened_ohclv_data = smoother.PandaSmoother(ohclv_data)\n",
    "    return smoothened_ohclv_data, np.array(data[\"Close\"]), list(data[\"Date\"])\n",
    "\n",
    "\n",
    "def getTechnicalIndicators(X, d):\n",
    "    RSI = getRSI(X[:, 3])\n",
    "    StochasticOscillator = getStochasticOscillator(X)\n",
    "    Williams = getWilliams(X)\n",
    "\n",
    "    MACD = getMACD(X[:, 3])\n",
    "    PROC = getPriceRateOfChange(X[:, 3], d)\n",
    "    OBV = getOnBalanceVolume(X)\n",
    "\n",
    "    min_len = min(len(RSI),\n",
    "                  len(StochasticOscillator),\n",
    "                  len(Williams),\n",
    "                  len(MACD),\n",
    "                  len(PROC),\n",
    "                  len(OBV))\n",
    "\n",
    "    RSI = RSI[len(RSI) - min_len:]\n",
    "    StochasticOscillator = StochasticOscillator[len(StochasticOscillator) - min_len:]\n",
    "    Williams = Williams[len(Williams) - min_len:]\n",
    "    MACD = MACD[len(MACD) - min_len:]\n",
    "    PROC = PROC[len(PROC) - min_len:]\n",
    "    OBV = OBV[len(OBV) - min_len:]\n",
    "\n",
    "    feature_matrix = np.c_[RSI[:, 0],\n",
    "                           StochasticOscillator[:, 0],\n",
    "                           Williams[:, 0],\n",
    "                           MACD[:, 0],\n",
    "                           PROC[:, 0],\n",
    "                           OBV[:, 0]]\n",
    "\n",
    "    return feature_matrix\n",
    "\n",
    "\n",
    "def prepareData(X, close, date, days):\n",
    "\n",
    "    feature_matrix = getTechnicalIndicators(X, days)\n",
    "\n",
    "    print(\"Size of feature matrix: \", feature_matrix.shape)\n",
    "\n",
    "    number_of_samples = feature_matrix.shape[0]\n",
    "    print(\"Number of samples: %d\" % number_of_samples)\n",
    "    date = date[len(date) - number_of_samples:]\n",
    "    close = close[len(close) - number_of_samples:]\n",
    "\n",
    "    # y0 = feature_matrix[:,-1][ :number_of_samples-d]\n",
    "    # y1 = feature_matrix[:,-1][d:]\n",
    "\n",
    "    y0 = close[:number_of_samples - days]\n",
    "    y1 = close[days:]\n",
    "\n",
    "    feature_matrix_1 = feature_matrix[:number_of_samples - days]\n",
    "    feature_matrix_2 = feature_matrix[number_of_samples - 1000:]\n",
    "    date = date[number_of_samples - 1000:]\n",
    "\n",
    "    # closeplot = feature_matrix[:,-1][number_of_samples - 1000:]\n",
    "    closeplot = close[number_of_samples - 1000:]\n",
    "    y = np.sign(y1 - y0)\n",
    "\n",
    "    print(\"y: \", y)\n",
    "\n",
    "    feature_matrix_1 = feature_matrix_1[:, range(6)]\n",
    "\n",
    "    return feature_matrix_1, y, feature_matrix_2[:, range(6)], closeplot, date\n",
    "\n",
    "\n",
    "def plotTradingStrategy(model, xplot, closeplot, Trading_Day, date):\n",
    "    colorMap = {-1.0: \"r\", 1.0: \"b\", 0.0: \"y\"}\n",
    "    tradeMap = {-1.0: \"Sell\", 1.0: \"Buy\", 0.0: \"Buy\"}\n",
    "    plt.figure()\n",
    "    plt.plot(closeplot, c=\"g\")\n",
    "    x = [xplot[i] for i in range(0, len(xplot), Trading_Day)]\n",
    "    y = [closeplot[i] for i in range(0, len(closeplot), Trading_Day)]\n",
    "    y_pred = model.predict(x)\n",
    "\n",
    "    c = [colorMap[y_pred[i]] for i in range(len(y_pred))]\n",
    "\n",
    "    df = pd.DataFrame(np.c_[[i + 1 for i in range(0, len(xplot), Trading_Day)], x, y, [tradeMap[y_pred[i]] for i in\n",
    "                                                                                       range(len(y_pred))]],\n",
    "                      columns=[\"Day\", \"RSI\", \"Stochastic Oscillator\", \"Williams\", \"MACD\", \"Price Rate Of Change\",\n",
    "                               \"On Balance Volume\", \"Close\", \"Buy/Sell\"])\n",
    "    df.to_csv(\"AAPLBuySellTradePoints.csv\", index=False)\n",
    "\n",
    "    plt.scatter([i for i in range(0, len(xplot), Trading_Day)], y, c=c)\n",
    "    # plt.xticks([i for i in xrange(0,len(xplot),Trading_Day)],[date[i] for i in xrange(0,len(xplot),Trading_Day)])\n",
    "    red_patch = mpatches.Patch(color='red', label='Sell')\n",
    "    blue_patch = mpatches.Patch(color=\"blue\", label=\"Buy\")\n",
    "    plt.legend(handles=[red_patch, blue_patch])\n",
    "    plt.xlabel(\"Time\")\n",
    "    plt.ylabel(\"Closing price\")\n",
    "    plt.title(\"Trading strategy for {} days trading window\".format(Trading_Day))\n",
    "    plt.savefig(\"TradingStrategy.png\")\n",
    "    plt.show(block=False)"
   ]
  },
  {
   "cell_type": "markdown",
   "metadata": {},
   "source": [
    "# Load data"
   ]
  },
  {
   "cell_type": "code",
   "execution_count": 30,
   "metadata": {},
   "outputs": [
    {
     "data": {
      "text/html": [
       "<div>\n",
       "<style scoped>\n",
       "    .dataframe tbody tr th:only-of-type {\n",
       "        vertical-align: middle;\n",
       "    }\n",
       "\n",
       "    .dataframe tbody tr th {\n",
       "        vertical-align: top;\n",
       "    }\n",
       "\n",
       "    .dataframe thead th {\n",
       "        text-align: right;\n",
       "    }\n",
       "</style>\n",
       "<table border=\"1\" class=\"dataframe\">\n",
       "  <thead>\n",
       "    <tr style=\"text-align: right;\">\n",
       "      <th></th>\n",
       "      <th>Open</th>\n",
       "      <th>High</th>\n",
       "      <th>Low</th>\n",
       "      <th>Close</th>\n",
       "      <th>Volume</th>\n",
       "      <th>Value</th>\n",
       "    </tr>\n",
       "    <tr>\n",
       "      <th>Date</th>\n",
       "      <th></th>\n",
       "      <th></th>\n",
       "      <th></th>\n",
       "      <th></th>\n",
       "      <th></th>\n",
       "      <th></th>\n",
       "    </tr>\n",
       "  </thead>\n",
       "  <tbody>\n",
       "    <tr>\n",
       "      <th>2017-07-01 18:00:00</th>\n",
       "      <td>2418.00</td>\n",
       "      <td>2457.500</td>\n",
       "      <td>2405.5</td>\n",
       "      <td>2444.680000</td>\n",
       "      <td>77.169692</td>\n",
       "      <td>187950.829591</td>\n",
       "    </tr>\n",
       "    <tr>\n",
       "      <th>2017-07-01 19:00:00</th>\n",
       "      <td>2443.68</td>\n",
       "      <td>2447.260</td>\n",
       "      <td>2411.0</td>\n",
       "      <td>2411.000000</td>\n",
       "      <td>31.978174</td>\n",
       "      <td>77700.842468</td>\n",
       "    </tr>\n",
       "    <tr>\n",
       "      <th>2017-07-01 20:00:00</th>\n",
       "      <td>2430.00</td>\n",
       "      <td>2450.146</td>\n",
       "      <td>2415.0</td>\n",
       "      <td>2434.999998</td>\n",
       "      <td>127.743210</td>\n",
       "      <td>311526.477933</td>\n",
       "    </tr>\n",
       "    <tr>\n",
       "      <th>2017-07-01 21:00:00</th>\n",
       "      <td>2429.00</td>\n",
       "      <td>2450.999</td>\n",
       "      <td>2393.0</td>\n",
       "      <td>2400.114000</td>\n",
       "      <td>48.704915</td>\n",
       "      <td>117568.868490</td>\n",
       "    </tr>\n",
       "    <tr>\n",
       "      <th>2017-07-01 22:00:00</th>\n",
       "      <td>2393.00</td>\n",
       "      <td>2460.000</td>\n",
       "      <td>2375.0</td>\n",
       "      <td>2375.000000</td>\n",
       "      <td>112.072172</td>\n",
       "      <td>271828.696309</td>\n",
       "    </tr>\n",
       "  </tbody>\n",
       "</table>\n",
       "</div>"
      ],
      "text/plain": [
       "                        Open      High     Low        Close      Volume  \\\n",
       "Date                                                                      \n",
       "2017-07-01 18:00:00  2418.00  2457.500  2405.5  2444.680000   77.169692   \n",
       "2017-07-01 19:00:00  2443.68  2447.260  2411.0  2411.000000   31.978174   \n",
       "2017-07-01 20:00:00  2430.00  2450.146  2415.0  2434.999998  127.743210   \n",
       "2017-07-01 21:00:00  2429.00  2450.999  2393.0  2400.114000   48.704915   \n",
       "2017-07-01 22:00:00  2393.00  2460.000  2375.0  2375.000000  112.072172   \n",
       "\n",
       "                             Value  \n",
       "Date                                \n",
       "2017-07-01 18:00:00  187950.829591  \n",
       "2017-07-01 19:00:00   77700.842468  \n",
       "2017-07-01 20:00:00  311526.477933  \n",
       "2017-07-01 21:00:00  117568.868490  \n",
       "2017-07-01 22:00:00  271828.696309  "
      ]
     },
     "execution_count": 30,
     "metadata": {},
     "output_type": "execute_result"
    }
   ],
   "source": [
    "from datetime import datetime\n",
    "data = pd.read_csv('usd_btc_out.csv', sep=\",\", converters={0: lambda x: datetime.strptime(x, \"%Y-%m-%d %H:%M:%S\")})\n",
    "data = data.set_index('Date')\n",
    "data.head()"
   ]
  },
  {
   "cell_type": "code",
   "execution_count": 31,
   "metadata": {},
   "outputs": [
    {
     "data": {
      "text/plain": [
       "[<matplotlib.lines.Line2D at 0x7ff054246bc0>]"
      ]
     },
     "execution_count": 31,
     "metadata": {},
     "output_type": "execute_result"
    },
    {
     "data": {
      "image/png": "[encoded data removed]",
      "text/plain": [
       "<Figure size 432x288 with 1 Axes>"
      ]
     },
     "metadata": {
      "needs_background": "light"
     },
     "output_type": "display_data"
    }
   ],
   "source": [
    "plt.plot(data[\"Close\"])"
   ]
  },
  {
   "cell_type": "markdown",
   "metadata": {},
   "source": [
    "# Prepare Data"
   ]
  },
  {
   "cell_type": "code",
   "execution_count": 32,
   "metadata": {},
   "outputs": [
    {
     "name": "stdout",
     "output_type": "stream",
     "text": [
      "Size of feature matrix:  (1910, 6)\n",
      "Number of samples: 1910\n",
      "y:  [-1. -1. -1. ... -1. -1. -1.]\n",
      "len X: 1820\n",
      "len y: 1820\n"
     ]
    },
    {
     "data": {
      "image/png": "[encoded data removed]",
      "text/plain": [
       "<Figure size 432x288 with 1 Axes>"
      ]
     },
     "metadata": {
      "needs_background": "light"
     },
     "output_type": "display_data"
    }
   ],
   "source": [
    "stock_symbol = \"AMZN\"\n",
    "days = 90\n",
    "\n",
    "filename = stock_symbol + \".csv\"\n",
    "csv_file = os.path.join(\"Dataset\", filename)\n",
    "ohclv_data, close, date = getData('usd_btc_out.csv', days=2000)\n",
    "\n",
    "plt.plot(ohclv_data[3])\n",
    "\n",
    "ohclv_data = np.array(ohclv_data)\n",
    "X, y, xplot, closeplot, dateplot = prepareData(ohclv_data, close, date, days)\n",
    "y[y == 0] = 1\n",
    "print(\"len X:\", len(X))\n",
    "print(\"len y:\", len(y))\n",
    "\n"
   ]
  },
  {
   "cell_type": "code",
   "execution_count": 33,
   "metadata": {},
   "outputs": [
    {
     "name": "stdout",
     "output_type": "stream",
     "text": [
      "1820\n"
     ]
    },
    {
     "data": {
      "text/plain": [
       "(array([1048.,    0.,    0.,    0.,    0.,    0.,    0.,    0.,    0.,\n",
       "         772.]),\n",
       " array([-1. , -0.8, -0.6, -0.4, -0.2,  0. ,  0.2,  0.4,  0.6,  0.8,  1. ]),\n",
       " <BarContainer object of 10 artists>)"
      ]
     },
     "execution_count": 33,
     "metadata": {},
     "output_type": "execute_result"
    },
    {
     "data": {
      "image/png": "[encoded data removed]",
      "text/plain": [
       "<Figure size 432x288 with 1 Axes>"
      ]
     },
     "metadata": {
      "needs_background": "light"
     },
     "output_type": "display_data"
    }
   ],
   "source": [
    "print(len(y))\n",
    "hist(y)"
   ]
  },
  {
   "cell_type": "markdown",
   "metadata": {},
   "source": [
    "# Split data"
   ]
  },
  {
   "cell_type": "code",
   "execution_count": 34,
   "metadata": {},
   "outputs": [],
   "source": [
    "def split_data(X, y, test_factor=0.2):\n",
    "    # Use the last 20% of the time series as test data.\n",
    "    # The first elements contains the older data.\n",
    "    test_len = int(len(X) * test_factor)\n",
    "    X_test = X[-test_len:]\n",
    "    y_test = y[-test_len:]\n",
    "    X_train = X[:-test_len]\n",
    "    y_train = y[:-test_len]\n",
    "    return X_train, X_test, y_train, y_test"
   ]
  },
  {
   "cell_type": "code",
   "execution_count": 35,
   "metadata": {},
   "outputs": [
    {
     "name": "stdout",
     "output_type": "stream",
     "text": [
      "n_train1: 1365\n",
      "n_test1: 455\n",
      "n_train2: 1456\n",
      "n_test2: 364\n"
     ]
    }
   ],
   "source": [
    "X_train1, X_test1, y_train1, y_test1 = train_test_split(X, y)\n",
    "X_train2, X_test2, y_train2, y_test2 = split_data(X, y)\n",
    "\n",
    "print(\"n_train1:\", len(X_train1))\n",
    "print(\"n_test1:\", len(X_test1))\n",
    "print(\"n_train2:\", len(X_train2))\n",
    "print(\"n_test2:\", len(X_test2))"
   ]
  },
  {
   "cell_type": "markdown",
   "metadata": {},
   "source": [
    "# Fit models"
   ]
  },
  {
   "cell_type": "code",
   "execution_count": 36,
   "metadata": {},
   "outputs": [
    {
     "name": "stdout",
     "output_type": "stream",
     "text": [
      "model 1 score: 0.93\n",
      "model 2 score: 0.69\n"
     ]
    }
   ],
   "source": [
    "model1 = RandomForestClassifier(n_estimators=100, criterion=\"gini\", random_state=0)\n",
    "model1.fit(X_train1, y_train1)\n",
    "y_pred1 = model1.predict(X_test1)\n",
    "\n",
    "model2 = RandomForestClassifier(n_estimators=100, criterion=\"gini\", random_state=0)\n",
    "model2.fit(X_train2, y_train2)\n",
    "y_pred2 = model2.predict(X_test2)\n",
    "\n",
    "print(\"model 1 score: %.2f\"  % model1.score(X_test1, y_test1))\n",
    "print(\"model 2 score: %.2f\"  % model2.score(X_test2, y_test2))"
   ]
  },
  {
   "cell_type": "markdown",
   "metadata": {},
   "source": [
    "# Evaluate models"
   ]
  },
  {
   "cell_type": "code",
   "execution_count": 38,
   "metadata": {},
   "outputs": [
    {
     "name": "stdout",
     "output_type": "stream",
     "text": [
      "## Confusion matrix metrics ##\n",
      "Accuracy: 0.93\n",
      "Recall: 0.89\n",
      "Precision: 0.96\n",
      "Specificity: 0.97\n"
     ]
    }
   ],
   "source": [
    "Eval1 = Evaluator(X_test1, y_test1, y_pred1, model1)\n",
    "accuracy, recall, precision, specificity = Eval1.get_performance_metrics()\n",
    "# ataset/AMZN.csv\n",
    "print(\"## Confusion matrix metrics ##\")\n",
    "print(\"Accuracy: %.2f\" % accuracy)\n",
    "print(\"Recall: %.2f\" % recall)\n",
    "print(\"Precision: %.2f\" % precision)\n",
    "print(\"Specificity: %.2f\" % specificity)"
   ]
  },
  {
   "cell_type": "code",
   "execution_count": 39,
   "metadata": {},
   "outputs": [
    {
     "name": "stdout",
     "output_type": "stream",
     "text": [
      "## Confusion matrix metrics ##\n",
      "Accuracy: 0.69\n",
      "Recall: 0.75\n",
      "Precision: 0.80\n",
      "Specificity: 0.55\n"
     ]
    }
   ],
   "source": [
    "Eval2 = Evaluator(X_test2, y_test2, y_pred2, model2)\n",
    "accuracy, recall, precision, specificity = Eval2.get_performance_metrics()\n",
    "\n",
    "print(\"## Confusion matrix metrics ##\")\n",
    "print(\"Accuracy: %.2f\" % accuracy)\n",
    "print(\"Recall: %.2f\" % recall)\n",
    "print(\"Precision: %.2f\" % precision)\n",
    "print(\"Specificity: %.2f\" % specificity)"
   ]
  },
  {
   "cell_type": "markdown",
   "metadata": {},
   "source": [
    "# Classification result"
   ]
  },
  {
   "cell_type": "code",
   "execution_count": 40,
   "metadata": {},
   "outputs": [
    {
     "data": {
      "image/png": "[encoded data removed]",
      "text/plain": [
       "<Figure size 432x288 with 1 Axes>"
      ]
     },
     "metadata": {
      "needs_background": "light"
     },
     "output_type": "display_data"
    }
   ],
   "source": [
    "Eval1.plot_classification_results()"
   ]
  },
  {
   "cell_type": "code",
   "execution_count": 41,
   "metadata": {},
   "outputs": [
    {
     "data": {
      "image/png": "[encoded data removed]",
      "text/plain": [
       "<Figure size 432x288 with 1 Axes>"
      ]
     },
     "metadata": {
      "needs_background": "light"
     },
     "output_type": "display_data"
    }
   ],
   "source": [
    "Eval2.plot_classification_results()"
   ]
  },
  {
   "cell_type": "markdown",
   "metadata": {},
   "source": [
    "# ROC curve using train_test_split (model 1)"
   ]
  },
  {
   "cell_type": "code",
   "execution_count": 42,
   "metadata": {},
   "outputs": [
    {
     "data": {
      "image/png": "[encoded data removed]",
      "text/plain": [
       "<Figure size 432x288 with 1 Axes>"
      ]
     },
     "metadata": {
      "needs_background": "light"
     },
     "output_type": "display_data"
    }
   ],
   "source": [
    "Eval1.draw_ROC(use_probabilities=True)"
   ]
  },
  {
   "cell_type": "markdown",
   "metadata": {},
   "source": [
    "# ROC curve using split_data (model 2)"
   ]
  },
  {
   "cell_type": "code",
   "execution_count": null,
   "metadata": {},
   "outputs": [],
   "source": [
    "Eval2.draw_ROC(use_probabilities=True)"
   ]
  }
 ],
 "metadata": {
  "kernelspec": {
   "display_name": "Python 3 (ipykernel)",
   "language": "python",
   "name": "python3"
  },
  "language_info": {
   "codemirror_mode": {
    "name": "ipython",
    "version": 3
   },
   "file_extension": ".py",
   "mimetype": "text/x-python",
   "name": "python",
   "nbconvert_exporter": "python",
   "pygments_lexer": "ipython3",
   "version": "3.10.6"
  }
 },
 "nbformat": 4,
 "nbformat_minor": 2
}
